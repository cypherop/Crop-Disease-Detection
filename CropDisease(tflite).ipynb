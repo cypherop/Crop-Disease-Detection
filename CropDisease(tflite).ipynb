{
  "nbformat": 4,
  "nbformat_minor": 0,
  "metadata": {
    "colab": {
      "name": "CropDisease.ipynb",
      "provenance": [],
      "collapsed_sections": [],
      "authorship_tag": "ABX9TyMw/YBiSawd8FJm3eupqJk1",
      "include_colab_link": true
    },
    "kernelspec": {
      "name": "python3",
      "display_name": "Python 3"
    },
    "accelerator": "GPU"
  },
  "cells": [
    {
      "cell_type": "markdown",
      "metadata": {
        "id": "view-in-github",
        "colab_type": "text"
      },
      "source": [
        "<a href=\"https://colab.research.google.com/github/cypherop/Crop-Disease-Detection/blob/master/CropDisease(tflite).ipynb\" target=\"_parent\"><img src=\"https://colab.research.google.com/assets/colab-badge.svg\" alt=\"Open In Colab\"/></a>"
      ]
    },
    {
      "cell_type": "code",
      "metadata": {
        "id": "pxvBz_4FZzY3"
      },
      "source": [
        "from google.colab import drive"
      ],
      "execution_count": null,
      "outputs": []
    },
    {
      "cell_type": "code",
      "metadata": {
        "id": "Zkvo3bTditvM",
        "colab": {
          "base_uri": "https://localhost:8080/"
        },
        "outputId": "4aaa8857-bf52-4a63-a1cf-efbfb043aaed"
      },
      "source": [
        "drive.mount('/gdrive',force_remount=True)\n"
      ],
      "execution_count": null,
      "outputs": [
        {
          "output_type": "stream",
          "text": [
            "Mounted at /gdrive\n"
          ],
          "name": "stdout"
        }
      ]
    },
    {
      "cell_type": "code",
      "metadata": {
        "id": "Cyfn-6sGnXNp"
      },
      "source": [
        "!unzip \"/gdrive/My Drive/CropDataset.zip\""
      ],
      "execution_count": null,
      "outputs": []
    },
    {
      "cell_type": "code",
      "metadata": {
        "id": "WXh8Xqy_osBB",
        "colab": {
          "base_uri": "https://localhost:8080/"
        },
        "outputId": "d2df178a-c10a-4a51-afba-00176943bb38"
      },
      "source": [
        "!ls"
      ],
      "execution_count": null,
      "outputs": [
        {
          "output_type": "stream",
          "text": [
            "Dataset  sample_data\n"
          ],
          "name": "stdout"
        }
      ]
    },
    {
      "cell_type": "code",
      "metadata": {
        "id": "Bs6s_dMEi3To"
      },
      "source": [
        "import os\n",
        "import keras\n",
        "import shutil\n",
        "import numpy as np\n",
        "import pandas as pd\n",
        "import tensorflow as tf\n",
        "import matplotlib.pyplot as plt\n",
        "from keras.preprocessing import image\n",
        "from keras.preprocessing.image import ImageDataGenerator\n",
        "from keras import layers\n",
        "from keras.layers import Input,Dense,Activation,ZeroPadding2D,BatchNormalization,Flatten,Conv2D,MaxPooling2D,Dropout,Lambda,Concatenate\n",
        "from keras.models import Model,Sequential\n",
        "from keras.optimizers import Adam"
      ],
      "execution_count": null,
      "outputs": []
    },
    {
      "cell_type": "code",
      "metadata": {
        "id": "vXL400LRkErO"
      },
      "source": [
        "train_minibatch_size = 128\n",
        "val_minibatch_size = 64\n",
        "Image_shape = (256,256,3)"
      ],
      "execution_count": null,
      "outputs": []
    },
    {
      "cell_type": "code",
      "metadata": {
        "id": "8yBfj1yMkLA3"
      },
      "source": [
        "classes=[]\n",
        "for clas in os.listdir('./Dataset/train/'):\n",
        "\tclasses.append(clas)"
      ],
      "execution_count": null,
      "outputs": []
    },
    {
      "cell_type": "code",
      "metadata": {
        "id": "NjIRM-0fkQK8",
        "colab": {
          "base_uri": "https://localhost:8080/"
        },
        "outputId": "e1a4e29b-5ddf-44b7-d852-d750e2411282"
      },
      "source": [
        "train_batch=ImageDataGenerator(rescale=1./225).flow_from_directory(\n",
        "            directory='./Dataset/train',\n",
        "            target_size=(256,256),\n",
        "            color_mode='rgb',\n",
        "            classes=classes,\n",
        "            batch_size=train_minibatch_size,\n",
        "            class_mode='categorical',\n",
        "            shuffle=True)"
      ],
      "execution_count": null,
      "outputs": [
        {
          "output_type": "stream",
          "text": [
            "Found 70295 images belonging to 38 classes.\n"
          ],
          "name": "stdout"
        }
      ]
    },
    {
      "cell_type": "code",
      "metadata": {
        "id": "WT7tnUtQpyIc",
        "colab": {
          "base_uri": "https://localhost:8080/"
        },
        "outputId": "3332cd2c-b41a-4d85-d371-1491e7080aac"
      },
      "source": [
        "val_batch=ImageDataGenerator(rescale=1./225).flow_from_directory(\n",
        "            directory='./Dataset/test',\n",
        "            target_size=(256,256),\n",
        "            color_mode='rgb',\n",
        "            classes=classes,\n",
        "            batch_size=val_minibatch_size,\n",
        "            class_mode='categorical',\n",
        "            shuffle=True)"
      ],
      "execution_count": null,
      "outputs": [
        {
          "output_type": "stream",
          "text": [
            "Found 17572 images belonging to 38 classes.\n"
          ],
          "name": "stdout"
        }
      ]
    },
    {
      "cell_type": "code",
      "metadata": {
        "id": "nm8_cgYBp-X8"
      },
      "source": [
        "model = Sequential()\n",
        "model.add(Conv2D(32, (3, 3),activation='relu',padding='same',input_shape=Image_shape))\n",
        "model.add(Conv2D(32, (3, 3), activation='relu', padding='same'))\n",
        "model.add(MaxPooling2D(pool_size=(2, 2)))\n",
        "model.add(BatchNormalization())\n",
        "\n",
        "model.add(Conv2D(64, (3, 3), activation='relu', padding='same'))\n",
        "model.add(Conv2D(64, (3, 3), activation='relu', padding='same'))\n",
        "model.add(MaxPooling2D(pool_size=(2, 2)))\n",
        "model.add(BatchNormalization())\n",
        "\n",
        "model.add(Conv2D(64, (3, 3), activation='relu', padding='same'))\n",
        "model.add(Conv2D(64, (3, 3), activation='relu', padding='same'))\n",
        "model.add(MaxPooling2D(pool_size=(2, 2)))\n",
        "model.add(BatchNormalization())\n",
        "\n",
        "model.add(Conv2D(128, (3, 3), activation='relu', padding='same'))\n",
        "model.add(Conv2D(128, (3, 3), activation='relu', padding='same'))\n",
        "model.add(Conv2D(128, (3, 3), activation='relu', padding='same'))\n",
        "model.add(MaxPooling2D(pool_size=(2, 2)))\n",
        "model.add(BatchNormalization())\n",
        "\n",
        "model.add(Conv2D(256, (3, 3), activation='relu', padding='same'))\n",
        "model.add(Conv2D(256, (3, 3), activation='relu', padding='same'))\n",
        "model.add(MaxPooling2D(pool_size=(2, 2)))\n",
        "model.add(BatchNormalization())\n",
        "\n",
        "model.add(Dropout(0.25))\n",
        "model.add(Flatten())\n",
        "model.add(Dense(4096, activation='relu'))\n",
        "model.add(Dropout(0.4))\n",
        "model.add(BatchNormalization())\n",
        "model.add(Dense(4096, activation='relu'))\n",
        "model.add(Dropout(0.4))\n",
        "model.add(BatchNormalization())\n",
        "model.add(Dense(1000, activation = 'relu'))\n",
        "model.add(Dropout(0.5))\n",
        "model.add(BatchNormalization())\n",
        "model.add(Dense(38, activation='softmax'))"
      ],
      "execution_count": null,
      "outputs": []
    },
    {
      "cell_type": "code",
      "metadata": {
        "id": "xBFE1rZ4qERQ"
      },
      "source": [
        "\n",
        "model.compile(Adam(lr=.0001),'categorical_crossentropy',metrics=['accuracy'])\n"
      ],
      "execution_count": null,
      "outputs": []
    },
    {
      "cell_type": "code",
      "metadata": {
        "id": "RRRhnytSrW2C",
        "colab": {
          "base_uri": "https://localhost:8080/"
        },
        "outputId": "d9f1bb6a-ad08-4395-c5e8-5f81365dc6d1"
      },
      "source": [
        "model.summary()\n"
      ],
      "execution_count": null,
      "outputs": [
        {
          "output_type": "stream",
          "text": [
            "Model: \"sequential\"\n",
            "_________________________________________________________________\n",
            "Layer (type)                 Output Shape              Param #   \n",
            "=================================================================\n",
            "conv2d (Conv2D)              (None, 256, 256, 32)      896       \n",
            "_________________________________________________________________\n",
            "conv2d_1 (Conv2D)            (None, 256, 256, 32)      9248      \n",
            "_________________________________________________________________\n",
            "max_pooling2d (MaxPooling2D) (None, 128, 128, 32)      0         \n",
            "_________________________________________________________________\n",
            "batch_normalization (BatchNo (None, 128, 128, 32)      128       \n",
            "_________________________________________________________________\n",
            "conv2d_2 (Conv2D)            (None, 128, 128, 64)      18496     \n",
            "_________________________________________________________________\n",
            "conv2d_3 (Conv2D)            (None, 128, 128, 64)      36928     \n",
            "_________________________________________________________________\n",
            "max_pooling2d_1 (MaxPooling2 (None, 64, 64, 64)        0         \n",
            "_________________________________________________________________\n",
            "batch_normalization_1 (Batch (None, 64, 64, 64)        256       \n",
            "_________________________________________________________________\n",
            "conv2d_4 (Conv2D)            (None, 64, 64, 64)        36928     \n",
            "_________________________________________________________________\n",
            "conv2d_5 (Conv2D)            (None, 64, 64, 64)        36928     \n",
            "_________________________________________________________________\n",
            "max_pooling2d_2 (MaxPooling2 (None, 32, 32, 64)        0         \n",
            "_________________________________________________________________\n",
            "batch_normalization_2 (Batch (None, 32, 32, 64)        256       \n",
            "_________________________________________________________________\n",
            "conv2d_6 (Conv2D)            (None, 32, 32, 128)       73856     \n",
            "_________________________________________________________________\n",
            "conv2d_7 (Conv2D)            (None, 32, 32, 128)       147584    \n",
            "_________________________________________________________________\n",
            "conv2d_8 (Conv2D)            (None, 32, 32, 128)       147584    \n",
            "_________________________________________________________________\n",
            "max_pooling2d_3 (MaxPooling2 (None, 16, 16, 128)       0         \n",
            "_________________________________________________________________\n",
            "batch_normalization_3 (Batch (None, 16, 16, 128)       512       \n",
            "_________________________________________________________________\n",
            "conv2d_9 (Conv2D)            (None, 16, 16, 256)       295168    \n",
            "_________________________________________________________________\n",
            "conv2d_10 (Conv2D)           (None, 16, 16, 256)       590080    \n",
            "_________________________________________________________________\n",
            "max_pooling2d_4 (MaxPooling2 (None, 8, 8, 256)         0         \n",
            "_________________________________________________________________\n",
            "batch_normalization_4 (Batch (None, 8, 8, 256)         1024      \n",
            "_________________________________________________________________\n",
            "dropout (Dropout)            (None, 8, 8, 256)         0         \n",
            "_________________________________________________________________\n",
            "flatten (Flatten)            (None, 16384)             0         \n",
            "_________________________________________________________________\n",
            "dense (Dense)                (None, 4096)              67112960  \n",
            "_________________________________________________________________\n",
            "dropout_1 (Dropout)          (None, 4096)              0         \n",
            "_________________________________________________________________\n",
            "batch_normalization_5 (Batch (None, 4096)              16384     \n",
            "_________________________________________________________________\n",
            "dense_1 (Dense)              (None, 4096)              16781312  \n",
            "_________________________________________________________________\n",
            "dropout_2 (Dropout)          (None, 4096)              0         \n",
            "_________________________________________________________________\n",
            "batch_normalization_6 (Batch (None, 4096)              16384     \n",
            "_________________________________________________________________\n",
            "dense_2 (Dense)              (None, 1000)              4097000   \n",
            "_________________________________________________________________\n",
            "dropout_3 (Dropout)          (None, 1000)              0         \n",
            "_________________________________________________________________\n",
            "batch_normalization_7 (Batch (None, 1000)              4000      \n",
            "_________________________________________________________________\n",
            "dense_3 (Dense)              (None, 38)                38038     \n",
            "=================================================================\n",
            "Total params: 89,461,950\n",
            "Trainable params: 89,442,478\n",
            "Non-trainable params: 19,472\n",
            "_________________________________________________________________\n"
          ],
          "name": "stdout"
        }
      ]
    },
    {
      "cell_type": "code",
      "metadata": {
        "id": "JMt7J5yTrZt8",
        "colab": {
          "base_uri": "https://localhost:8080/"
        },
        "outputId": "bcd8f81d-d551-4c19-e46f-c7c040f49888"
      },
      "source": [
        "history = model.fit_generator(train_batch, steps_per_epoch=550, validation_data=val_batch, validation_steps=275, epochs=13, verbose=1)"
      ],
      "execution_count": null,
      "outputs": [
        {
          "output_type": "stream",
          "text": [
            "/usr/local/lib/python3.7/dist-packages/tensorflow/python/keras/engine/training.py:1844: UserWarning: `Model.fit_generator` is deprecated and will be removed in a future version. Please use `Model.fit`, which supports generators.\n",
            "  warnings.warn('`Model.fit_generator` is deprecated and '\n"
          ],
          "name": "stderr"
        },
        {
          "output_type": "stream",
          "text": [
            "Epoch 1/13\n",
            "550/550 [==============================] - 442s 731ms/step - loss: 2.2124 - accuracy: 0.4195 - val_loss: 4.1345 - val_accuracy: 0.2236\n",
            "Epoch 2/13\n",
            "550/550 [==============================] - 414s 752ms/step - loss: 0.4792 - accuracy: 0.8527 - val_loss: 0.3703 - val_accuracy: 0.8799\n",
            "Epoch 3/13\n",
            "550/550 [==============================] - 414s 752ms/step - loss: 0.2303 - accuracy: 0.9276 - val_loss: 1.0867 - val_accuracy: 0.7324\n",
            "Epoch 4/13\n",
            "550/550 [==============================] - 412s 749ms/step - loss: 0.1486 - accuracy: 0.9543 - val_loss: 0.4291 - val_accuracy: 0.8677\n",
            "Epoch 5/13\n",
            "550/550 [==============================] - 412s 749ms/step - loss: 0.1030 - accuracy: 0.9676 - val_loss: 0.6421 - val_accuracy: 0.8169\n",
            "Epoch 6/13\n",
            "550/550 [==============================] - 412s 749ms/step - loss: 0.0794 - accuracy: 0.9752 - val_loss: 0.1666 - val_accuracy: 0.9473\n",
            "Epoch 7/13\n",
            "550/550 [==============================] - 413s 751ms/step - loss: 0.0687 - accuracy: 0.9775 - val_loss: 0.1841 - val_accuracy: 0.9441\n",
            "Epoch 8/13\n",
            "550/550 [==============================] - 412s 748ms/step - loss: 0.0570 - accuracy: 0.9815 - val_loss: 0.0892 - val_accuracy: 0.9723\n",
            "Epoch 9/13\n",
            "550/550 [==============================] - 413s 750ms/step - loss: 0.0445 - accuracy: 0.9847 - val_loss: 0.1702 - val_accuracy: 0.9479\n",
            "Epoch 10/13\n",
            "550/550 [==============================] - 412s 749ms/step - loss: 0.0461 - accuracy: 0.9851 - val_loss: 0.1269 - val_accuracy: 0.9609\n",
            "Epoch 11/13\n",
            "550/550 [==============================] - 412s 749ms/step - loss: 0.0387 - accuracy: 0.9874 - val_loss: 0.1085 - val_accuracy: 0.9665\n",
            "Epoch 12/13\n",
            "550/550 [==============================] - 413s 751ms/step - loss: 0.0317 - accuracy: 0.9898 - val_loss: 0.0712 - val_accuracy: 0.9789\n",
            "Epoch 13/13\n",
            "550/550 [==============================] - 412s 749ms/step - loss: 0.0265 - accuracy: 0.9916 - val_loss: 0.0924 - val_accuracy: 0.9721\n"
          ],
          "name": "stdout"
        }
      ]
    },
    {
      "cell_type": "code",
      "metadata": {
        "id": "lhgdK5BArl6Y",
        "colab": {
          "base_uri": "https://localhost:8080/",
          "height": 231
        },
        "outputId": "34467ecb-3b55-484f-f624-f4c904e31649"
      },
      "source": [
        "\n",
        "plt.plot(history.history['acc'], color='blue')\n",
        "plt.plot(history.history['val_acc'], color='yellow')\n",
        "plt.title('Model Accuracy')\n",
        "plt.ylabel('Accuracy')\n",
        "plt.xlabel('Epoch')\n",
        "plt.legend(['Train', 'Test'], loc='upper left')\n",
        "plt.show()\n",
        "\n",
        "plt.figure()\n",
        "plt.plot(history.history['loss'], color='red')\n",
        "plt.plot(history.history['val_loss'], color='green')\n",
        "plt.title('Model Loss')\n",
        "plt.ylabel('Loss')\n",
        "plt.xlabel('Epoch')\n",
        "plt.legend(['Train', 'Test'], loc='upper left')\n",
        "plt.show()"
      ],
      "execution_count": null,
      "outputs": [
        {
          "output_type": "error",
          "ename": "KeyError",
          "evalue": "ignored",
          "traceback": [
            "\u001b[0;31m---------------------------------------------------------------------------\u001b[0m",
            "\u001b[0;31mKeyError\u001b[0m                                  Traceback (most recent call last)",
            "\u001b[0;32m<ipython-input-14-8451886169e6>\u001b[0m in \u001b[0;36m<module>\u001b[0;34m()\u001b[0m\n\u001b[1;32m      1\u001b[0m \u001b[0;34m\u001b[0m\u001b[0m\n\u001b[0;32m----> 2\u001b[0;31m \u001b[0mplt\u001b[0m\u001b[0;34m.\u001b[0m\u001b[0mplot\u001b[0m\u001b[0;34m(\u001b[0m\u001b[0mhistory\u001b[0m\u001b[0;34m.\u001b[0m\u001b[0mhistory\u001b[0m\u001b[0;34m[\u001b[0m\u001b[0;34m'acc'\u001b[0m\u001b[0;34m]\u001b[0m\u001b[0;34m,\u001b[0m \u001b[0mcolor\u001b[0m\u001b[0;34m=\u001b[0m\u001b[0;34m'blue'\u001b[0m\u001b[0;34m)\u001b[0m\u001b[0;34m\u001b[0m\u001b[0;34m\u001b[0m\u001b[0m\n\u001b[0m\u001b[1;32m      3\u001b[0m \u001b[0mplt\u001b[0m\u001b[0;34m.\u001b[0m\u001b[0mplot\u001b[0m\u001b[0;34m(\u001b[0m\u001b[0mhistory\u001b[0m\u001b[0;34m.\u001b[0m\u001b[0mhistory\u001b[0m\u001b[0;34m[\u001b[0m\u001b[0;34m'val_acc'\u001b[0m\u001b[0;34m]\u001b[0m\u001b[0;34m,\u001b[0m \u001b[0mcolor\u001b[0m\u001b[0;34m=\u001b[0m\u001b[0;34m'yellow'\u001b[0m\u001b[0;34m)\u001b[0m\u001b[0;34m\u001b[0m\u001b[0;34m\u001b[0m\u001b[0m\n\u001b[1;32m      4\u001b[0m \u001b[0mplt\u001b[0m\u001b[0;34m.\u001b[0m\u001b[0mtitle\u001b[0m\u001b[0;34m(\u001b[0m\u001b[0;34m'Model Accuracy'\u001b[0m\u001b[0;34m)\u001b[0m\u001b[0;34m\u001b[0m\u001b[0;34m\u001b[0m\u001b[0m\n\u001b[1;32m      5\u001b[0m \u001b[0mplt\u001b[0m\u001b[0;34m.\u001b[0m\u001b[0mylabel\u001b[0m\u001b[0;34m(\u001b[0m\u001b[0;34m'Accuracy'\u001b[0m\u001b[0;34m)\u001b[0m\u001b[0;34m\u001b[0m\u001b[0;34m\u001b[0m\u001b[0m\n",
            "\u001b[0;31mKeyError\u001b[0m: 'acc'"
          ]
        }
      ]
    },
    {
      "cell_type": "code",
      "metadata": {
        "id": "cI-KXcPPRj-e"
      },
      "source": [
        "!unzip \"/gdrive/My Drive/CropTestImages.zip\""
      ],
      "execution_count": null,
      "outputs": []
    },
    {
      "cell_type": "code",
      "metadata": {
        "id": "6v_YwdMel1_n"
      },
      "source": [
        "model_json = model.to_json()\n",
        "with open(\"CropModel.json\", \"w\") as json_file:\n",
        "    json_file.write(model_json)\n",
        "model.save_weights(\"CropModel.h5\")"
      ],
      "execution_count": null,
      "outputs": []
    },
    {
      "cell_type": "code",
      "metadata": {
        "id": "UXUmGH6jo1yS",
        "colab": {
          "base_uri": "https://localhost:8080/"
        },
        "outputId": "45c1091f-3332-4ff8-bb32-03b3ef3bb2bf"
      },
      "source": [
        "!ls"
      ],
      "execution_count": null,
      "outputs": [
        {
          "output_type": "stream",
          "text": [
            "CropModel.h5  CropModel.json  CropTestImages  Dataset  sample_data\n"
          ],
          "name": "stdout"
        }
      ]
    },
    {
      "cell_type": "code",
      "metadata": {
        "id": "zRiUJUP622_T",
        "colab": {
          "base_uri": "https://localhost:8080/",
          "height": 281
        },
        "outputId": "1a1bb2fa-f3e9-40b4-bd3a-25a8fcddb203"
      },
      "source": [
        "image_path = \"./CropTestImages/test/CornCommonRust3.JPG\"\n",
        "new_img = image.load_img(image_path, target_size=(256, 256))\n",
        "img = image.img_to_array(new_img)\n",
        "img = np.expand_dims(img, axis=0)\n",
        "img = img/255\n",
        "\n",
        "print(\"Prediction:\")\n",
        "prediction = model.predict(img)\n",
        "\n",
        "fla = prediction.flatten()\n",
        "ma = fla.max()\n",
        "for index,item in enumerate(fla):\n",
        "    if item == ma:\n",
        "        class_name = classes[index]    \n",
        "plt.figure(figsize = (4,4))\n",
        "plt.imshow(new_img)\n",
        "plt.axis('off')\n",
        "plt.title(class_name)\n",
        "plt.show()"
      ],
      "execution_count": null,
      "outputs": [
        {
          "output_type": "stream",
          "text": [
            "Prediction:\n"
          ],
          "name": "stdout"
        },
        {
          "output_type": "display_data",
          "data": {
            "image/png": "[encoded data removed]",
            "text/plain": [
              "<Figure size 288x288 with 1 Axes>"
            ]
          },
          "metadata": {
            "tags": [],
            "needs_background": "light"
          }
        }
      ]
    },
    {
      "cell_type": "code",
      "metadata": {
        "colab": {
          "base_uri": "https://localhost:8080/"
        },
        "id": "2m5_RoEy4xKV",
        "outputId": "e87f765d-a8f8-47ce-cc03-94b49b132083"
      },
      "source": [
        "import tensorflow as tf\n",
        "\n",
        "\n",
        "converter = tf.lite.TFLiteConverter.from_keras_model(model)\n",
        "\n",
        "tflite_model = converter.convert()\n",
        "\n",
        "tflite_model_name = \"mymodel.tflite\"\n",
        "open(tflite_model_name, \"wb\").write(tflite_model)"
      ],
      "execution_count": null,
      "outputs": [
        {
          "output_type": "stream",
          "text": [
            "INFO:tensorflow:Assets written to: /tmp/tmpyl66bt2u/assets\n"
          ],
          "name": "stdout"
        },
        {
          "output_type": "execute_result",
          "data": {
            "text/plain": [
              "357783456"
            ]
          },
          "metadata": {
            "tags": []
          },
          "execution_count": 21
        }
      ]
    },
    {
      "cell_type": "code",
      "metadata": {
        "colab": {
          "base_uri": "https://localhost:8080/"
        },
        "id": "qT1SsF7f46CH",
        "outputId": "11d4b699-4e70-461c-9f62-3774bd7f523a"
      },
      "source": [
        "!ls"
      ],
      "execution_count": null,
      "outputs": [
        {
          "output_type": "stream",
          "text": [
            "CropModel.h5\tCropTestImages\tmymodel.tflite\n",
            "CropModel.json\tDataset\t\tsample_data\n"
          ],
          "name": "stdout"
        }
      ]
    },
    {
      "cell_type": "code",
      "metadata": {
        "id": "Fh9Q-43n7cKG"
      },
      "source": [
        ""
      ],
      "execution_count": null,
      "outputs": []
    }
  ]
}